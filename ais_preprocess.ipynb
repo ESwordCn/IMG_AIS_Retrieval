{
 "cells": [
  {
   "cell_type": "code",
   "execution_count": 4,
   "metadata": {},
   "outputs": [],
   "source": [
    "import numpy as np\n",
    "import pandas as pd\n",
    "import matplotlib.pyplot as plt\n",
    "from datetime import datetime,timedelta\n",
    "import shapefile\n",
    "import random\n",
    "from haversine import haversine\n",
    "import arcpy"
   ]
  },
  {
   "cell_type": "code",
   "execution_count": 5,
   "metadata": {},
   "outputs": [],
   "source": [
    "#读入文件\n",
    "df_raw = pd.DataFrame(pd.read_excel(\"data/syfhd_20220623.xls\"))"
   ]
  },
  {
   "cell_type": "code",
   "execution_count": 5,
   "metadata": {},
   "outputs": [],
   "source": [
    "#获取所有的mmsi\n",
    "# mmsi_list = df_raw[\"mmsi\"].unique()\n",
    "# mmsi_list[:5]\n",
    "\n",
    "# 可视化ais轨迹\n",
    "# for mmsi in mmsi_list:\n",
    "#     ais = df[df['mmsi']==mmsi]\n",
    "#     x = ais[\"经度\"]\n",
    "#     y = ais[\"纬度\"]\n",
    "\n",
    "\n",
    "#     plt.plot(x,y)\n",
    "#     plt.show()\n"
   ]
  },
  {
   "cell_type": "code",
   "execution_count": 6,
   "metadata": {},
   "outputs": [],
   "source": [
    "# 去掉信息少于10的ais 并只保留时间、mmsi、经纬度\n",
    "value_counts = df_raw['mmsi'].value_counts()\n",
    "to_remove = value_counts[value_counts<=10].index\n",
    "df_light = df_raw.replace(to_remove, np.nan,inplace=False)\n",
    "df_light = df_light.loc[:,[\"updatetime\",\"mmsi\",\"经度\",\"纬度\"]]\n",
    "df_light.dropna(inplace=True)"
   ]
  },
  {
   "cell_type": "code",
   "execution_count": 7,
   "metadata": {},
   "outputs": [],
   "source": [
    "# # AIS 插值等间隔\n",
    "# df = df_light\n",
    "# sleep = 500 #等间隔值\n",
    "# time = 0\n",
    "# i = 0\n",
    "# dic={'时间点(s)': [],'CPU使用率(%)':[]}\n",
    "# while time<=df.iloc[-1]['时间点(s)']:\n",
    "#     while time>=df.iloc[i]['时间点(s)']:\n",
    "#         i+=1\n",
    "#     z = df.iloc[i]['CPU使用率(%)'] - df.iloc[i-1]['CPU使用率(%)']\n",
    "#     p = df.iloc[i]['时间点(s)'] - df.iloc[i-1]['时间点(s)']\n",
    "#     t = time - df.iloc[i-1]['时间点(s)']\n",
    "#     v = df.iloc[i-1]['CPU使用率(%)'] + z / p * t\n",
    "#     dic['时间点(s)'].append(time)\n",
    "#     dic['CPU使用率(%)'].append(v)\n",
    "#     print(time,v)\n",
    "#     time += sleep\n",
    "# df1 = pd.DataFrame(dic)\n",
    "# df1.to_excel('new.xlsx',index=None)\n",
    " "
   ]
  },
  {
   "cell_type": "code",
   "execution_count": 8,
   "metadata": {},
   "outputs": [],
   "source": [
    "#shp文件中寻找最接近（lon,lat）的\n",
    "def find_shp(lon, lat):\n",
    "    sf = shapefile.Reader(\"data/三亚船舶标注汇总_762.shp\",encoding='gb18030')\n",
    "    min_diff = float(\"inf\")\n",
    "    \n",
    "    shapes = sf.shapes()\n",
    "    for shape in shapes:\n",
    "        center_lon,center_lat = np.mean(shape.bbox[0::2]),np.mean(shape.bbox[1::2])\n",
    "        \n",
    "        diff = haversine((center_lat,center_lon), (lat,lon), unit='m')\n",
    "        if diff<min_diff:\n",
    "            min_diff = diff\n",
    "            res_shape = shape\n",
    "    return res_shape, min_diff\n"
   ]
  },
  {
   "cell_type": "code",
   "execution_count": 27,
   "metadata": {},
   "outputs": [
    {
     "name": "stdout",
     "output_type": "stream",
     "text": [
      "0.019517066467862776\n",
      "145\n"
     ]
    }
   ],
   "source": [
    "# 查看ais所有船的时间在图像时间是否命中\n",
    "ais_g = df_light.groupby(\"mmsi\")\n",
    "start_time,time_delta_time = \"2022-06-23 10:46\" ,timedelta(days=1)\n",
    "start_time=datetime.strptime(start_time, \"%Y-%m-%d %H:%M\")\n",
    "\n",
    "min_diff_list=[]\n",
    "for mmsi,content in ais_g:\n",
    "    \n",
    "    filter = content[(content[\"updatetime\"]>=start_time-time_delta_time) & (content[\"updatetime\"]<=start_time+time_delta_time)]\n",
    "    if len(filter)==0:\n",
    "        #预测\n",
    "        pass\n",
    "    else:\n",
    "        Lon_mean,Lat_mean = filter[\"经度\"].mean(),filter[\"纬度\"].mean()\n",
    "        \n",
    "        p1x,p1y,p2x,p2y = find_shp(Lon_mean,Lat_mean)[0].bbox\n",
    "        \n",
    "        match_shp,min_diff = find_shp(Lon_mean,Lat_mean)\n",
    "        min_diff_list.append(min_diff)\n",
    "\n",
    "        ais_list = random.sample(list(df_raw[df_raw[\"mmsi\"]==mmsi].values),5)\n",
    "print(np.max(min_diff_list)) \n",
    "print(len(min_diff_list))\n",
    "    "
   ]
  }
 ],
 "metadata": {
  "kernelspec": {
   "display_name": "arcpy",
   "language": "python",
   "name": "python3"
  },
  "language_info": {
   "codemirror_mode": {
    "name": "ipython",
    "version": 3
   },
   "file_extension": ".py",
   "mimetype": "text/x-python",
   "name": "python",
   "nbconvert_exporter": "python",
   "pygments_lexer": "ipython3",
   "version": "3.9.11"
  },
  "orig_nbformat": 4,
  "vscode": {
   "interpreter": {
    "hash": "e9fc7d80accd9df10eb662c58e78e19ed95b0acec07c025da66f0e0b5b9769d2"
   }
  }
 },
 "nbformat": 4,
 "nbformat_minor": 2
}
